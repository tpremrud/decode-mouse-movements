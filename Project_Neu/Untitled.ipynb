{
 "cells": [
  {
   "cell_type": "code",
   "execution_count": 12,
   "metadata": {},
   "outputs": [],
   "source": [
    "import scipy.io\n",
    "from scipy.sparse import csc_matrix\n",
    "import numpy as np\n",
    "import pip\n",
    "import os\n",
    "import math\n",
    "\n",
    "# pip.main(['install'] + ['nodejs'])\n",
    "# pip install ipympl\n",
    "import tensorflow as tf\n",
    "from tensorflow import keras\n",
    "from tensorflow.keras import layers\n",
    "import pandas as pd\n",
    "from sklearn.preprocessing import MinMaxScaler\n",
    "\n",
    "\n",
    "import ipympl\n",
    "%matplotlib widget\n",
    "# !pip install --upgrade jupyterlab\n",
    "# !pip install brainrender\n",
    "# !conda install nodejs\n",
    "# !jupyter labextension install @jupyter-widgets/jupyterlab-manager\n",
    "# !jupyter labextension install jupyter-matplotlib\n",
    "import matplotlib.pyplot as plt\n",
    "from mpl_toolkits.mplot3d import axes3d\n",
    "\n",
    "# BrainRender\n",
    "import brainrender\n",
    "from brainrender.scene import Scene\n",
    "from vedo import Plotter\n",
    "from brainrender.scene import Scene\n",
    "# Rendering your scene in a separate window\n",
    "from vedo import embedWindow\n",
    "embedWindow(False)"
   ]
  },
  {
   "cell_type": "code",
   "execution_count": null,
   "metadata": {},
   "outputs": [],
   "source": [
    "from scipy import io\n",
    "\n",
    "probeLoc = io.loadmat('probeLocations.mat')\n",
    "probeBorders = io.loadmat('probeBorders.mat', squeeze_me=True)\n",
    "\n",
    "mouse_names = ['Krebs','Waksman','Robbins']\n",
    "# start of spontaneous activity in each mouse (in seconds)\n",
    "tstart = [3811, 3633, 3323];\n",
    "\n",
    "## Function for extracting each mouse's parameters\n",
    "def extract_data(k,imouse):\n",
    "## k is the number of probe (0 to 7)\n",
    "## imouse is the list containing mouse names (0 to 2)\n",
    "    if (k in [i for i in range(8)]) and (imouse in [i for i in range(3)]):\n",
    "# imouse = 0\n",
    "\n",
    "        spks = io.loadmat('Spikes/spks%s_Feb18.mat'%mouse_names[imouse], squeeze_me=True)\n",
    "        faces = io.loadmat('Faces/%s_face_proc.mat'%mouse_names[imouse], squeeze_me=True)\n",
    "\n",
    "        # probe k\n",
    "        # k = 0\n",
    "        # spike times (in seconds)\n",
    "        st = spks['spks'][k][0]   # (606058,)\n",
    "        # clusters\n",
    "        clu = spks['spks'][k][1]  # (606058,)\n",
    "        # cluster heights (in microns) ==> Height of each cluster on the probe\n",
    "        # (see siteCoords to convert to site location)\n",
    "        Wh = spks['spks'][k][2]    # (127,)\n",
    "\n",
    "        # processed faces\n",
    "        motSVD = faces['motionSVD']\n",
    "        video_timestamps = faces['times']\n",
    "\n",
    "        # where is the probe in the brain (consolidated labels)\n",
    "        # borders are in microns\n",
    "        # use Wh to determine which clusters are in which brain region\n",
    "        borders = probeBorders['probeBorders'][imouse]['borders'][k]\n",
    "        for j in range(len(borders)):\n",
    "           b = borders[j]\n",
    "           print('upper border %d, lower border %d, area %s'%(b[0],b[1],b[2]))\n",
    "           wneurons = np.logical_and(Wh>=b[1], Wh<b[0])\n",
    "           nn = wneurons.sum()\n",
    "           print('%d neurons in %s'%(nn,b[-1]))\n",
    "\n",
    "        # where is the probe in the brain (in microns) ==> (384,3)\n",
    "        ccfCoords = probeLoc['probeLocations'][0][imouse]['probe'][0][k]['ccfCoords']\n",
    "        # name of area in Allen ontology by site on electrode ==> (384,1)\n",
    "        ccfNames = probeLoc['probeLocations'][0][imouse]['probe'][0][k]['ccfOntology']\n",
    "        # coordinates of each site on the electrode ==> (384,2)\n",
    "        siteCoords = probeLoc['probeLocations'][0][imouse]['probe'][0][k]['siteCoords']\n",
    "        \n",
    "        # Initiate DataFrame for these data\n",
    "        \n",
    "    elif (k in [i for i in range(8)]) and (imouse not in [i for i in range(3)]):\n",
    "        raise Exception('imouse should be the integer from 0 to 2 only.')\n",
    "    elif (k not in [i for i in range(8)]) and (imouse in [i for i in range(3)]):\n",
    "        raise Exception('i should be the integer from 0 to 7 only.')\n",
    "    else:\n",
    "        raise Exception('Both of your function inputs are not eligible as i needs to be integer from 0 to 7 and imouse needs to be integer from 0 to 2 only.')\n",
    "    \n",
    "    return st,clu,Wh,motSVD,video_timestamps,ccfCoords,ccfNames,siteCoords\n",
    "\n",
    "# 0: st\n",
    "# 1: clu\n",
    "# 2: Wh\n",
    "# 3: motSVD\n",
    "# 4: video_timestamps\n",
    "# 5: ccfCoords\n",
    "# 6: ccfNames\n",
    "# 7: siteCoords\n",
    "\n",
    "def count_neurons(time_interval, file):\n",
    "    t1,t2 = time_interval\n",
    "    trial_spikes = file[0]\n",
    "    interval = (trial_spikes > t1) & (trial_spikes < t2)\n",
    "    trial_spikes = trial_spikes[interval]\n",
    "    ids = file[1][interval]\n",
    "    \n",
    "    return np.unique(ids, return_counts = True)\n",
    "\n",
    "def bin_into_array(file, bin_space):\n",
    "    ids = file[1]\n",
    "    idList = np.unique(ids)\n",
    "    \n",
    "    n_neurons = len(idList)\n",
    "    n_neurons = n_neurons + 1\n",
    "    n_bins = math.ceil((np.max(file[0])-np.min(file[0]))/(bin_space))\n",
    "#     display(n_bins)\n",
    "    data = np.zeros((n_neurons,n_bins))\n",
    "#     display(data.shape)\n",
    "    t_start = np.min(file[0])\n",
    "    t_end = np.max(file[0])\n",
    "    for b in range(n_bins):\n",
    "        which_neurons, n_spikes = count_neurons((t_start + b*bin_space, t_start + (b+1)*bin_space),file)\n",
    "#         display(which_neurons)\n",
    "        data[which_neurons,b] = n_spikes\n",
    "    return data"
   ]
  },
  {
   "cell_type": "code",
   "execution_count": 114,
   "metadata": {},
   "outputs": [],
   "source": [
    "bin_space = 5\n",
    "# bin_space = (np.max(Krebs[0])-np.min(Krebs[0]))/len(Krebs[4])\n",
    "# Krebs = extract_data(5,0)\n",
    "# which_neu, n_spikes = count_neurons((3830,3830.1),Krebs)\n",
    "data = bin_into_array(Krebs, bin_space)\n",
    "# display(which_neu)\n",
    "# display(n_spikes)\n",
    "# display(data[1])\n"
   ]
  },
  {
   "cell_type": "code",
   "execution_count": 115,
   "metadata": {},
   "outputs": [
    {
     "data": {
      "application/vnd.jupyter.widget-view+json": {
       "model_id": "813e0ed284a846e4bf5be86af2faa071",
       "version_major": 2,
       "version_minor": 0
      },
      "text/plain": [
       "Canvas(toolbar=Toolbar(toolitems=[('Home', 'Reset original view', 'home', 'home'), ('Back', 'Back to previous …"
      ]
     },
     "metadata": {},
     "output_type": "display_data"
    },
    {
     "data": {
      "text/plain": [
       "0.00632419322250231"
      ]
     },
     "metadata": {},
     "output_type": "display_data"
    },
    {
     "data": {
      "text/plain": [
       "array([0., 0., 0., 0., 0., 0., 0., 0., 0., 0., 0., 0., 0., 0., 0., 0., 0.,\n",
       "       0., 0., 0., 0., 0., 0., 0., 0., 0., 0., 0., 0., 0., 0., 0., 0., 0.,\n",
       "       0., 0., 0., 0., 0., 0., 0., 0., 0., 0., 0., 0., 0., 0., 0., 0., 0.,\n",
       "       0., 0., 0., 0., 0., 0., 0., 0., 0., 0., 0., 0., 0., 0., 0., 0., 0.,\n",
       "       0., 0., 0., 0., 0., 0., 0., 0., 0., 0., 0., 0., 0., 0., 0., 0., 0.,\n",
       "       0., 0., 0., 0., 0., 0., 0., 0., 0., 0., 0., 0., 0., 0., 0., 0., 0.,\n",
       "       0., 0., 0., 0., 0., 0., 0., 0., 0., 0., 0., 0., 0., 0., 0., 0., 0.,\n",
       "       0., 0., 0., 0., 0., 0., 0., 0., 0., 0., 0., 0., 0., 0., 0., 0., 0.,\n",
       "       0., 0., 0., 0., 0., 0., 0., 0., 0., 0., 0., 0., 0., 0., 0., 0., 0.,\n",
       "       0., 0., 0., 0., 0., 0., 0., 0., 0., 0., 0., 0., 0., 0., 0., 0., 0.,\n",
       "       0., 0., 0., 0., 0., 0., 0., 0., 0., 0., 0., 0., 0., 0., 0., 0., 0.,\n",
       "       0., 0., 0., 0., 0., 0., 0., 0., 0., 0., 0., 0., 0., 0., 0., 0., 0.,\n",
       "       0., 0., 0., 0., 0., 0., 0., 0., 0., 0., 0., 0., 0., 0., 0., 0., 0.,\n",
       "       0., 0., 0., 0., 0., 0., 0., 0., 0., 0., 0., 0., 0., 0., 0., 0., 0.,\n",
       "       0., 0., 0., 0., 0., 0., 0., 0., 0., 0., 0., 0., 0., 0., 0., 0., 0.,\n",
       "       0., 0.])"
      ]
     },
     "metadata": {},
     "output_type": "display_data"
    }
   ],
   "source": [
    "fig = plt.figure()\n",
    "# Provide the title for the spike raster plot\n",
    "plt.title('Spike raster plot (5 s bins)')\n",
    "# Give y axis label for the spike raster plot\n",
    "plt.ylabel('Spike rate (Hz)')\n",
    "# Give x axis label for the spike raster plot\n",
    "plt.xlabel('Spontaneous activity time (seconds)')\n",
    "# bin_space = (np.max(Krebs[0])-np.min(Krebs[0]))/len(Krebs[4])\n",
    "display((np.max(Krebs[0])-np.min(Krebs[0]))/len(Krebs[4]))\n",
    "t = np.array([np.arange(np.min(Krebs[0]),np.max(Krebs[0]),bin_space)])\n",
    "display(data[0])\n",
    "plt.plot(t[0],data[1], 'b')\n",
    "plt.plot(t[0],data[2], 'r')\n",
    "plt.plot(t[0],data[3], 'g')\n",
    "plt.show()"
   ]
  },
  {
   "cell_type": "code",
   "execution_count": 77,
   "metadata": {},
   "outputs": [
    {
     "data": {
      "text/plain": [
       "array([-103.86932 , -103.86932 , -180.97568 , ...,  262.0697  ,\n",
       "        -11.881396,   82.2555  ], dtype=float32)"
      ]
     },
     "metadata": {},
     "output_type": "display_data"
    }
   ],
   "source": [
    "# fig = plt.figure()\n",
    "# plt.title('Motion Energy Principal Components')\n",
    "# # Give y axis label for the spike raster plot\n",
    "# plt.ylabel('Neuron')\n",
    "# # Give x axis label for the spike raster plot\n",
    "# plt.xlabel('Spontaneous activity time (seconds)')\n",
    "\n",
    "# plt.plot(Krebs[4],Krebs[3][:,3], 'b')\n",
    "# # plt.plot(Krebs[4],Krebs[3][:,2], 'r')\n",
    "# # plt.plot(Krebs[4],Krebs[3][:,3], 'g')\n",
    "# # plt.ylim(-1200,1200)\n",
    "# plt.show()\n",
    "\n",
    "display(Krebs[3][:,3])"
   ]
  }
 ],
 "metadata": {
  "kernelspec": {
   "display_name": "Python 3",
   "language": "python",
   "name": "python3"
  },
  "language_info": {
   "codemirror_mode": {
    "name": "ipython",
    "version": 3
   },
   "file_extension": ".py",
   "mimetype": "text/x-python",
   "name": "python",
   "nbconvert_exporter": "python",
   "pygments_lexer": "ipython3",
   "version": "3.6.9"
  }
 },
 "nbformat": 4,
 "nbformat_minor": 4
}
