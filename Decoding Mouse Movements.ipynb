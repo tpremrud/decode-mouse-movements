{
 "cells": [
  {
   "cell_type": "markdown",
   "metadata": {},
   "source": [
    "# TO-DO\n",
    "* Figure out what each variables are\n",
    "* Figure out the relevant brain regions ==> in the ccfNames variable\n",
    "* Find out what is the input and output for the network\n",
    "* Setup the network in advance ==> while figuring out other stuff\n",
    "* Setup function for extracting all probes from all rats\n",
    "    * All **eight** probes \n",
    "    * All **three** rats\n",
    "* Training phase\n",
    "    * k-fold cross validation ???\n",
    "    * ROC curve ???"
   ]
  },
  {
   "cell_type": "code",
   "execution_count": 40,
   "metadata": {},
   "outputs": [],
   "source": [
    "import scipy.io\n",
    "import numpy as np\n",
    "import pip\n",
    "\n",
    "# pip.main(['install'] + ['tensorflow'])\n",
    "import tensorflow as tf\n",
    "from tensorflow import keras\n",
    "from tensorflow.keras import layers"
   ]
  },
  {
   "cell_type": "markdown",
   "metadata": {},
   "source": [
    "# Decode Mouse Movements\n",
    "### Using recurrent neural network (RNN), we are going to decode mouse movements from neural activity in various parts of the mouse brain.\n",
    "\n",
    "\n",
    "Dataset is from https://figshare.com/articles/Eight-probe_Neuropixels_recordings_during_spontaneous_behaviors/7739750, with the data as follows,\n",
    "* **probeLocations** ==> Information about each probe's location\n",
    "    * ccfCoords ==> Location of each site on the probe in the microns in the Allen CCF framework\n",
    "* **probeBorders** ==> \n",
    "\n",
    "The \"spks\" each is a structure of length 8, where each entry is a different probe (these probes were recorded simultaneously). It contains the spike times and the cluster identity of each spike.\n",
    "* **spks(k).st** = spike times in seconds\n",
    "* **spks(k).clu** = cluster identity of each spike in st (which neuron does spike belong to)\n",
    "* **spks(k).Wheights** = height of each cluster on the probe\n",
    "\n",
    "In our notebook, we specify them as **st**, **clu** and **Wh**, respectively\n",
    "\n",
    "\n",
    "### NOTE: These data are for MATLAB, and are .mat file type\n",
    "\n",
    "\n"
   ]
  },
  {
   "cell_type": "code",
   "execution_count": 47,
   "metadata": {},
   "outputs": [],
   "source": [
    "# From the following link https://github.com/MouseLand/stringer-pachitariu-et-al-2018a\n",
    "\n",
    "from scipy import io\n",
    "\n",
    "probeLoc = io.loadmat('probeLocations.mat')\n",
    "probeBorders = io.loadmat('probeBorders.mat', squeeze_me=True)\n",
    "\n",
    "mouse_names = ['Krebs','Waksman','Robbins']\n",
    "# start of spontaneous activity in each mouse (in seconds)\n",
    "tstart = [3811, 3633, 3323];\n",
    "\n",
    "## Function for extracting each mouse's parameters\n",
    "def extract_data(k,imouse):\n",
    "## k is the number of probe (0 to 7)\n",
    "## imouse is the list containing mouse names (0 to 2)\n",
    "    if (k in [i for i in range(8)]) and (imouse in [i for i in range(2)]):\n",
    "# imouse = 0\n",
    "\n",
    "        spks = io.loadmat('Spikes/spks%s_Feb18.mat'%mouse_names[imouse], squeeze_me=True)\n",
    "        faces = io.loadmat('Faces/%s_face_proc.mat'%mouse_names[imouse], squeeze_me=True)\n",
    "\n",
    "        # probe k\n",
    "        # k = 0\n",
    "        # spike times (in seconds)\n",
    "        st = spks['spks'][k][0]   # (606058,)\n",
    "        # clusters\n",
    "        clu = spks['spks'][k][1]  # (606058,)\n",
    "        # cluster heights (in microns) ==> Height of each cluster on the probe\n",
    "        # (see siteCoords to convert to site location)\n",
    "        Wh = spks['spks'][k][2]    # (127,)\n",
    "\n",
    "        # processed faces\n",
    "        motSVD = faces['motionSVD']\n",
    "        video_timestamps = faces['times']\n",
    "\n",
    "        # where is the probe in the brain (consolidated labels)\n",
    "        # borders are in microns\n",
    "        # use Wh to determine which clusters are in which brain region\n",
    "        borders = probeBorders['probeBorders'][imouse]['borders'][k]\n",
    "        for j in range(len(borders)):\n",
    "           b = borders[j]\n",
    "           print('upper border %d, lower border %d, area %s'%(b[0],b[1],b[2]))\n",
    "           wneurons = np.logical_and(Wh>=b[1], Wh<b[0])\n",
    "           nn = wneurons.sum()\n",
    "           print('%d neurons in %s'%(nn,b[-1]))\n",
    "\n",
    "        # where is the probe in the brain (in microns) ==> (384,3)\n",
    "        ccfCoords = probeLoc['probeLocations'][0][imouse]['probe'][k][0]['ccfCoords']\n",
    "        # name of area in Allen ontology by site on electrode ==> (384,1)\n",
    "        ccfNames = probeLoc['probeLocations'][0][imouse]['probe'][k][0]['ccfOntology']\n",
    "        # coordinates of each site on the electrode ==> (384,2)\n",
    "        siteCoords = probeLoc['probeLocations'][0][imouse]['probe'][k][0]['siteCoords']\n",
    "    elif (k in [i for i in range(8)]) and (imouse not in [i for i in range(2)]):\n",
    "        raise Exception('imouse should be the integer from 0 to 2 only.')\n",
    "    elif (k not in [i for i in range(8)]) and (imouse in [i for i in range(2)]):\n",
    "        raise Exception('i should be the integer from 0 to 7 only.')\n",
    "    else:\n",
    "        raise Exception('Both of your function inputs are not eligible as i needs to be integer from 0 to 7 and imouse needs to be integer from 0 to 2 only.')\n",
    "    \n",
    "    return st,clu,Wh,motSVD,video_timestamps,ccfCoords,ccfNames,siteCoords\n"
   ]
  },
  {
   "cell_type": "markdown",
   "metadata": {},
   "source": [
    "## Relevant Anatomy\n",
    "From ccfNames variable, we have found the following brain regions that are relevant to the data\n",
    "* Bed nucleus of the stria terminalis (BST) https://www.ncbi.nlm.nih.gov/pmc/articles/PMC4011829/\n",
    "    * Its connectivity suggest it being a **relay center** within neurocircuits coordinating the activity of **autonomic, neuroendocrine, and somatic motor systems** into fully organized physiological functions and behaviors\n",
    "    * Info flows into BST from exteroceptive or interoceptive sources through all CNS system levels\n",
    "    * Lesions or pharmacological manipulations ==> Physiology of fear, food intake, social behaviours, pain, and goal-directed behaviours and the associated pathophysiological states such as anxiety, anorexia, and addiction\n",
    "\n",
    "* Lateral Septal Ventral (LSv)\n",
    "    "
   ]
  },
  {
   "cell_type": "code",
   "execution_count": 49,
   "metadata": {},
   "outputs": [
    {
     "name": "stdout",
     "output_type": "stream",
     "text": [
      "upper border 4000, lower border 1100, area FrMoCtx\n",
      "5 neurons in FrMoCtx\n",
      "upper border 1100, lower border 0, area LS\n",
      "122 neurons in LS\n",
      "Lol my name is Krebs\n"
     ]
    }
   ],
   "source": [
    "## Playground\n",
    "# See what is inside the variables inside probeLoc\n",
    "# display(ccfCoords)\n",
    "# display(ccfCoords.shape)\n",
    "# display(ccfNames)\n",
    "# display(ccfNames.shape)\n",
    "# display(siteCoords)\n",
    "# display(siteCoords.shape)\n",
    "# extract_data(0,0)\n",
    "# See what is inside the variables inside spks\n",
    "# display(st)\n",
    "# display(st.shape)\n",
    "# display(clu)\n",
    "# display(clu.shape)\n",
    "# display(Wh)\n",
    "# display(Wh.shape)\n",
    "# display(len(spks['spks'])   # This is 8, for 8 probes recording simultaneously\n",
    "# display(spks)\n",
    "# display(mouse_names[0])\n",
    "# display([i for i in range(8)])\n",
    "print('Lol my name is %s'%mouse_names[0])"
   ]
  },
  {
   "cell_type": "markdown",
   "metadata": {},
   "source": [
    "## Recurrent Neural Network (RNN)\n",
    "RNN processes sequences, one element at a time, and it has memory, so it is a causal system(?). With this memory, it can use the entire context to take into account when making a prediction, which is what we process sequences, considering the whole sentence before forming a response.\n",
    "\n",
    "\n",
    "Source: https://towardsdatascience.com/recurrent-neural-networks-by-example-in-python-ffd204f99470"
   ]
  },
  {
   "cell_type": "code",
   "execution_count": null,
   "metadata": {},
   "outputs": [],
   "source": [
    "### Recurrent Neural Network ###\n"
   ]
  },
  {
   "cell_type": "markdown",
   "metadata": {},
   "source": [
    "# Appendix\n",
    "## Appendix A: Relevant Papers\n",
    "\n",
    "* Spontaneous Behaviors Drive Multidimensional, Brain-wide Activity ==> All the spike-sorting electrophysiology and the corresponding behavioral traces are referred to this dataset\n",
    "    * https://www.ncbi.nlm.nih.gov/pmc/articles/PMC6525101/"
   ]
  }
 ],
 "metadata": {
  "kernelspec": {
   "display_name": "Python 3",
   "language": "python",
   "name": "python3"
  },
  "language_info": {
   "codemirror_mode": {
    "name": "ipython",
    "version": 3
   },
   "file_extension": ".py",
   "mimetype": "text/x-python",
   "name": "python",
   "nbconvert_exporter": "python",
   "pygments_lexer": "ipython3",
   "version": "3.6.9"
  }
 },
 "nbformat": 4,
 "nbformat_minor": 4
}
